{
  "nbformat": 4,
  "nbformat_minor": 0,
  "metadata": {
    "colab": {
      "provenance": [],
      "gpuType": "V28"
    },
    "kernelspec": {
      "name": "python3",
      "display_name": "Python 3"
    },
    "language_info": {
      "name": "python"
    },
    "accelerator": "TPU"
  },
  "cells": [
    {
      "cell_type": "code",
      "source": [
        "!pip install git+https://github.com/openai/whisper.git\n",
        "!pip install torch\n",
        "!pip install soundfile\n",
        "!pip install moviepy\n"
      ],
      "metadata": {
        "colab": {
          "base_uri": "https://localhost:8080/"
        },
        "id": "atf36nbm6HMM",
        "outputId": "dbb64c66-b6dd-4271-b1d1-404643880b14"
      },
      "execution_count": 2,
      "outputs": [
        {
          "output_type": "stream",
          "name": "stdout",
          "text": [
            "Collecting git+https://github.com/openai/whisper.git\n",
            "  Cloning https://github.com/openai/whisper.git to /tmp/pip-req-build-wwhppl_y\n",
            "  Running command git clone --filter=blob:none --quiet https://github.com/openai/whisper.git /tmp/pip-req-build-wwhppl_y\n",
            "  Resolved https://github.com/openai/whisper.git to commit ba3f3cd54b0e5b8ce1ab3de13e32122d0d5f98ab\n",
            "  Installing build dependencies ... \u001b[?25l\u001b[?25hdone\n",
            "  Getting requirements to build wheel ... \u001b[?25l\u001b[?25hdone\n",
            "  Preparing metadata (pyproject.toml) ... \u001b[?25l\u001b[?25hdone\n",
            "Requirement already satisfied: numba in /usr/local/lib/python3.10/dist-packages (from openai-whisper==20231117) (0.59.1)\n",
            "Requirement already satisfied: numpy in /usr/local/lib/python3.10/dist-packages (from openai-whisper==20231117) (1.25.2)\n",
            "Requirement already satisfied: torch in /usr/local/lib/python3.10/dist-packages (from openai-whisper==20231117) (2.2.0+cpu)\n",
            "Requirement already satisfied: tqdm in /usr/local/lib/python3.10/dist-packages (from openai-whisper==20231117) (4.66.2)\n",
            "Requirement already satisfied: more-itertools in /usr/lib/python3/dist-packages (from openai-whisper==20231117) (8.10.0)\n",
            "Requirement already satisfied: tiktoken in /usr/local/lib/python3.10/dist-packages (from openai-whisper==20231117) (0.7.0)\n",
            "Requirement already satisfied: triton<3,>=2.0.0 in /usr/local/lib/python3.10/dist-packages (from openai-whisper==20231117) (2.3.1)\n",
            "Requirement already satisfied: filelock in /usr/local/lib/python3.10/dist-packages (from triton<3,>=2.0.0->openai-whisper==20231117) (3.14.0)\n",
            "Requirement already satisfied: llvmlite<0.43,>=0.42.0dev0 in /usr/local/lib/python3.10/dist-packages (from numba->openai-whisper==20231117) (0.42.0)\n",
            "Requirement already satisfied: regex>=2022.1.18 in /usr/local/lib/python3.10/dist-packages (from tiktoken->openai-whisper==20231117) (2024.4.28)\n",
            "Requirement already satisfied: requests>=2.26.0 in /usr/local/lib/python3.10/dist-packages (from tiktoken->openai-whisper==20231117) (2.31.0)\n",
            "Requirement already satisfied: typing-extensions>=4.8.0 in /usr/local/lib/python3.10/dist-packages (from torch->openai-whisper==20231117) (4.11.0)\n",
            "Requirement already satisfied: sympy in /usr/local/lib/python3.10/dist-packages (from torch->openai-whisper==20231117) (1.12)\n",
            "Requirement already satisfied: networkx in /usr/local/lib/python3.10/dist-packages (from torch->openai-whisper==20231117) (3.3)\n",
            "Requirement already satisfied: jinja2 in /usr/local/lib/python3.10/dist-packages (from torch->openai-whisper==20231117) (3.1.3)\n",
            "Requirement already satisfied: fsspec in /usr/local/lib/python3.10/dist-packages (from torch->openai-whisper==20231117) (2024.3.1)\n",
            "Requirement already satisfied: charset-normalizer<4,>=2 in /usr/local/lib/python3.10/dist-packages (from requests>=2.26.0->tiktoken->openai-whisper==20231117) (3.3.2)\n",
            "Requirement already satisfied: idna<4,>=2.5 in /usr/local/lib/python3.10/dist-packages (from requests>=2.26.0->tiktoken->openai-whisper==20231117) (3.7)\n",
            "Requirement already satisfied: urllib3<3,>=1.21.1 in /usr/local/lib/python3.10/dist-packages (from requests>=2.26.0->tiktoken->openai-whisper==20231117) (2.0.7)\n",
            "Requirement already satisfied: certifi>=2017.4.17 in /usr/local/lib/python3.10/dist-packages (from requests>=2.26.0->tiktoken->openai-whisper==20231117) (2024.2.2)\n",
            "Requirement already satisfied: MarkupSafe>=2.0 in /usr/local/lib/python3.10/dist-packages (from jinja2->torch->openai-whisper==20231117) (2.1.5)\n",
            "Requirement already satisfied: mpmath>=0.19 in /usr/local/lib/python3.10/dist-packages (from sympy->torch->openai-whisper==20231117) (1.3.0)\n",
            "Requirement already satisfied: torch in /usr/local/lib/python3.10/dist-packages (2.2.0+cpu)\n",
            "Requirement already satisfied: filelock in /usr/local/lib/python3.10/dist-packages (from torch) (3.14.0)\n",
            "Requirement already satisfied: typing-extensions>=4.8.0 in /usr/local/lib/python3.10/dist-packages (from torch) (4.11.0)\n",
            "Requirement already satisfied: sympy in /usr/local/lib/python3.10/dist-packages (from torch) (1.12)\n",
            "Requirement already satisfied: networkx in /usr/local/lib/python3.10/dist-packages (from torch) (3.3)\n",
            "Requirement already satisfied: jinja2 in /usr/local/lib/python3.10/dist-packages (from torch) (3.1.3)\n",
            "Requirement already satisfied: fsspec in /usr/local/lib/python3.10/dist-packages (from torch) (2024.3.1)\n",
            "Requirement already satisfied: MarkupSafe>=2.0 in /usr/local/lib/python3.10/dist-packages (from jinja2->torch) (2.1.5)\n",
            "Requirement already satisfied: mpmath>=0.19 in /usr/local/lib/python3.10/dist-packages (from sympy->torch) (1.3.0)\n",
            "Requirement already satisfied: soundfile in /usr/local/lib/python3.10/dist-packages (0.12.1)\n",
            "Requirement already satisfied: cffi>=1.0 in /usr/local/lib/python3.10/dist-packages (from soundfile) (1.16.0)\n",
            "Requirement already satisfied: pycparser in /usr/local/lib/python3.10/dist-packages (from cffi>=1.0->soundfile) (2.22)\n",
            "Requirement already satisfied: moviepy in /usr/local/lib/python3.10/dist-packages (1.0.3)\n",
            "Requirement already satisfied: decorator<5.0,>=4.0.2 in /usr/local/lib/python3.10/dist-packages (from moviepy) (4.4.2)\n",
            "Requirement already satisfied: tqdm<5.0,>=4.11.2 in /usr/local/lib/python3.10/dist-packages (from moviepy) (4.66.2)\n",
            "Requirement already satisfied: requests<3.0,>=2.8.1 in /usr/local/lib/python3.10/dist-packages (from moviepy) (2.31.0)\n",
            "Requirement already satisfied: proglog<=1.0.0 in /usr/local/lib/python3.10/dist-packages (from moviepy) (0.1.10)\n",
            "Requirement already satisfied: numpy>=1.17.3 in /usr/local/lib/python3.10/dist-packages (from moviepy) (1.25.2)\n",
            "Requirement already satisfied: imageio<3.0,>=2.5 in /usr/local/lib/python3.10/dist-packages (from moviepy) (2.34.1)\n",
            "Requirement already satisfied: imageio-ffmpeg>=0.2.0 in /usr/local/lib/python3.10/dist-packages (from moviepy) (0.5.1)\n",
            "Requirement already satisfied: pillow>=8.3.2 in /usr/local/lib/python3.10/dist-packages (from imageio<3.0,>=2.5->moviepy) (10.3.0)\n",
            "Requirement already satisfied: setuptools in /usr/local/lib/python3.10/dist-packages (from imageio-ffmpeg>=0.2.0->moviepy) (67.7.2)\n",
            "Requirement already satisfied: charset-normalizer<4,>=2 in /usr/local/lib/python3.10/dist-packages (from requests<3.0,>=2.8.1->moviepy) (3.3.2)\n",
            "Requirement already satisfied: idna<4,>=2.5 in /usr/local/lib/python3.10/dist-packages (from requests<3.0,>=2.8.1->moviepy) (3.7)\n",
            "Requirement already satisfied: urllib3<3,>=1.21.1 in /usr/local/lib/python3.10/dist-packages (from requests<3.0,>=2.8.1->moviepy) (2.0.7)\n",
            "Requirement already satisfied: certifi>=2017.4.17 in /usr/local/lib/python3.10/dist-packages (from requests<3.0,>=2.8.1->moviepy) (2024.2.2)\n"
          ]
        }
      ]
    },
    {
      "cell_type": "code",
      "source": [
        "import whisper\n",
        "import torch\n",
        "from moviepy.editor import VideoFileClip\n",
        "\n",
        "def transcribe_audio_files(audio_files, output_txt_path, output_srt_path):\n",
        "    \"\"\"\n",
        "    Verilen ses dosyalarını metin haline dönüştürür ve sonuçları hem .txt hem de .srt dosyalarına kaydeder.\n",
        "\n",
        "    :param audio_files: Ses dosyalarının yollarını içeren liste\n",
        "    :param output_txt_path: Metin dosyasının kaydedileceği yol\n",
        "    :param output_srt_path: Altyazı dosyasının kaydedileceği yol\n",
        "    :return: None\n",
        "    \"\"\"\n",
        "    # Whisper modelini yükle\n",
        "    model = whisper.load_model(\"base\")\n",
        "\n",
        "    # Sonuçları saklamak için boş bir liste\n",
        "    txt_results = []\n",
        "    srt_results = []\n",
        "    srt_counter = 1\n",
        "\n",
        "    # Her bir ses dosyasını işleyin\n",
        "    for audio_file in audio_files:\n",
        "        if audio_file.endswith('.mp4'):\n",
        "            # MP4 dosyasını işleme\n",
        "            video = VideoFileClip(audio_file)\n",
        "            audio = video.audio\n",
        "            audio_file_path = \"temp_audio.wav\"\n",
        "            audio.write_audiofile(audio_file_path)\n",
        "            result = model.transcribe(audio_file_path)\n",
        "            txt_results.append(f\"MP4 Results:\\n{result['text']}\\n\")\n",
        "            srt_results.extend(generate_srt(result['segments'], srt_counter))\n",
        "            srt_counter = len(srt_results) + 1\n",
        "        elif audio_file.endswith('.mp3'):\n",
        "            # MP3 dosyasını işleme\n",
        "            result = model.transcribe(audio_file)\n",
        "            txt_results.append(f\"MP3 Results:\\n{result['text']}\\n\")\n",
        "            srt_results.extend(generate_srt(result['segments'], srt_counter))\n",
        "            srt_counter = len(srt_results) + 1\n",
        "        elif audio_file.endswith('.wav'):\n",
        "            # WAV dosyasını işleme\n",
        "            result = model.transcribe(audio_file)\n",
        "            txt_results.append(f\"WAV Results:\\n{result['text']}\\n\")\n",
        "            srt_results.extend(generate_srt(result['segments'], srt_counter))\n",
        "            srt_counter = len(srt_results) + 1\n",
        "\n",
        "    # Sonuçları belirtilen dosya yoluna kaydet\n",
        "    with open(output_txt_path, \"w\", encoding=\"utf-8\") as file:\n",
        "        for result in txt_results:\n",
        "            file.write(result + \"\\n\\n\")\n",
        "\n",
        "    with open(output_srt_path, \"w\", encoding=\"utf-8\") as file:\n",
        "        for result in srt_results:\n",
        "            file.write(result)\n",
        "\n",
        "    print(f\"Transcriptions saved to {output_txt_path} and {output_srt_path}\")\n",
        "\n",
        "def generate_srt(segments, start_counter):\n",
        "    \"\"\"\n",
        "    Segmentlerden SRT dosyası oluşturur.\n",
        "\n",
        "    :param segments: Zaman damgalı segmentlerin listesi\n",
        "    :param start_counter: SRT giriş numarasını başlatmak için sayaç\n",
        "    :return: SRT formatında string listesi\n",
        "    \"\"\"\n",
        "    srt_entries = []\n",
        "    for i, segment in enumerate(segments, start=start_counter):\n",
        "        start_time = format_timestamp(segment['start'])\n",
        "        end_time = format_timestamp(segment['end'])\n",
        "        text = segment['text'].strip()\n",
        "        srt_entry = f\"{i}\\n{start_time} --> {end_time}\\n{text}\\n\\n\"\n",
        "        srt_entries.append(srt_entry)\n",
        "    return srt_entries\n",
        "\n",
        "def format_timestamp(seconds):\n",
        "    \"\"\"\n",
        "    Zaman damgalarını SRT formatına dönüştürür.\n",
        "\n",
        "    :param seconds: Saniye cinsinden zaman\n",
        "    :return: SRT formatında zaman stringi\n",
        "    \"\"\"\n",
        "    hours = int(seconds // 3600)\n",
        "    minutes = int((seconds % 3600) // 60)\n",
        "    seconds = int(seconds % 60)\n",
        "    milliseconds = int((seconds % 1) * 1000)\n",
        "    return f\"{hours:02}:{minutes:02}:{seconds:02},{milliseconds:03}\"\n",
        "\n",
        "# Kullanım örneği\n",
        "audio_files = [\n",
        "    \"/content/drive/MyDrive/AI Homework/Y2meta.app-Yapay Zekâ Hakkında _ Take Off İstanbul 2023-(1080p).mp4\",\n",
        "    \"/content/drive/MyDrive/AI Homework/Y2meta.app-Yapay Zekâ Hakkında _ Take Off İstanbul 2023-(1080p).mp3\",\n",
        "    \"/content/drive/MyDrive/AI Homework/Y2meta.app-Yapay Zekâ Hakkında _ Take Off İstanbul 2023-(1080p).wav\"\n",
        "]\n",
        "output_txt_file = \"/content/drive/MyDrive/AI Homework/sonuçlar.txt\"\n",
        "output_srt_file = \"/content/drive/MyDrive/AI Homework/sonuçlar.srt\"\n",
        "\n",
        "transcribe_audio_files(audio_files, output_txt_file, output_srt_file)\n"
      ],
      "metadata": {
        "colab": {
          "base_uri": "https://localhost:8080/"
        },
        "id": "mkONyJiw6JL1",
        "outputId": "ea63b2bc-ec2d-4e22-a1d8-2fbcb64d1b29"
      },
      "execution_count": 4,
      "outputs": [
        {
          "output_type": "stream",
          "name": "stdout",
          "text": [
            "MoviePy - Writing audio in temp_audio.wav\n"
          ]
        },
        {
          "output_type": "stream",
          "name": "stderr",
          "text": [
            "WARNING:py.warnings:/usr/local/lib/python3.10/dist-packages/whisper/transcribe.py:126: UserWarning: FP16 is not supported on CPU; using FP32 instead\n",
            "  warnings.warn(\"FP16 is not supported on CPU; using FP32 instead\")\n",
            "\n"
          ]
        },
        {
          "output_type": "stream",
          "name": "stdout",
          "text": [
            "MoviePy - Done.\n"
          ]
        },
        {
          "output_type": "stream",
          "name": "stderr",
          "text": [
            "WARNING:py.warnings:/usr/local/lib/python3.10/dist-packages/whisper/transcribe.py:126: UserWarning: FP16 is not supported on CPU; using FP32 instead\n",
            "  warnings.warn(\"FP16 is not supported on CPU; using FP32 instead\")\n",
            "\n",
            "WARNING:py.warnings:/usr/local/lib/python3.10/dist-packages/whisper/transcribe.py:126: UserWarning: FP16 is not supported on CPU; using FP32 instead\n",
            "  warnings.warn(\"FP16 is not supported on CPU; using FP32 instead\")\n",
            "\n"
          ]
        },
        {
          "output_type": "stream",
          "name": "stdout",
          "text": [
            "Transcriptions saved to /content/drive/MyDrive/AI Homework/sonuçlar.txt and /content/drive/MyDrive/AI Homework/sonuçlar.srt\n"
          ]
        }
      ]
    }
  ]
}